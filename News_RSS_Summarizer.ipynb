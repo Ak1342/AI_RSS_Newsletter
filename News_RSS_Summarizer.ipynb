{
 "cells": [
  {
   "cell_type": "code",
   "execution_count": 1,
   "id": "e8b34320-cc39-4e14-8356-30d580a46e36",
   "metadata": {},
   "outputs": [],
   "source": [
    "import feedparser\n",
    "import torch\n",
    "from transformers import BartForConditionalGeneration, BartTokenizer\n",
    "from newspaper import Article\n",
    "import json\n",
    "from collections import defaultdict"
   ]
  },
  {
   "cell_type": "code",
   "execution_count": 2,
   "id": "8e9755ca-ed4c-43c7-8502-6c0024a1904f",
   "metadata": {},
   "outputs": [],
   "source": [
    "#Country specific sources for news\n",
    "def load_users(file_path=\"users.json\"):\n",
    "    with open(file_path, \"r\", encoding=\"utf-8\") as f:\n",
    "        return json.load(f)\n",
    "users = load_users()\n"
   ]
  },
  {
   "cell_type": "code",
   "execution_count": 3,
   "id": "5579acec-13b5-408a-9132-323561bf9411",
   "metadata": {},
   "outputs": [],
   "source": [
    "#distilbart LLM from Hugging Face for summarization\n",
    "model_name = \"sshleifer/distilbart-cnn-12-6\"\n",
    "tokenizer = BartTokenizer.from_pretrained(model_name)\n",
    "model = BartForConditionalGeneration.from_pretrained(model_name)"
   ]
  },
  {
   "cell_type": "code",
   "execution_count": 4,
   "id": "66645ca7-455c-420e-90e9-81a1ef41c70f",
   "metadata": {},
   "outputs": [],
   "source": [
    "def fetch_articles(rss_urls):\n",
    "    articles = []\n",
    "    for url in rss_urls:\n",
    "        feed = feedparser.parse(url)\n",
    "        for entry in feed.entries[:6]:  # Fetch latest 5 articles\n",
    "            articles.append({\"title\": entry.title, \"link\": entry.link})\n",
    "    return articles"
   ]
  },
  {
   "cell_type": "code",
   "execution_count": 5,
   "id": "6e4a4476-d1cf-4393-ae68-d573f2bbf05d",
   "metadata": {},
   "outputs": [],
   "source": [
    "def summarize_article(url):\n",
    "    try:\n",
    "        article = Article(url)\n",
    "        article.download()\n",
    "        article.parse()\n",
    "\n",
    "        if not article.text:\n",
    "            return \"No content available.\"\n",
    "\n",
    "        inputs = tokenizer.encode(\"summarize: \" + article.text[:2000], return_tensors=\"pt\", truncation=True)\n",
    "        with torch.no_grad():\n",
    "            summary_ids = model.generate(inputs, max_length=200, min_length=100, num_beams=4)\n",
    "\n",
    "        summary = tokenizer.decode(summary_ids[0], skip_special_tokens=True)\n",
    "        return summary\n",
    "    except Exception as e:\n",
    "        return f\"Error fetching article: {str(e)}\""
   ]
  },
  {
   "cell_type": "code",
   "execution_count": 6,
   "id": "39006629-c562-4ca2-947d-8545e7fe597d",
   "metadata": {},
   "outputs": [],
   "source": [
    "def generate_newsletter(user, articles):\n",
    "    filename = f\"{user.replace(' ', '_').lower()}_newsletter.md\"\n",
    "    top_articles = [article[\"title\"] for article in articles[:3]]  \n",
    "    top_summary = f\"Top trending news updates for {user}: \" + \"; \".join(top_articles) + \".\"\n",
    "    categorized_articles = defaultdict(list)\n",
    "    for article in articles:\n",
    "        matched = False\n",
    "        for interest, keywords in users[user][\"interest_keywords\"].items():\n",
    "            for keyword in keywords:\n",
    "                if keyword.lower() in article[\"title\"].lower():\n",
    "                    categorized_articles[interest].append(article)\n",
    "                    matched = True\n",
    "                    break  \n",
    "            if matched:\n",
    "                break\n",
    "    \n",
    "        if not matched:\n",
    "            categorized_articles[\"General\"].append(article) \n",
    "\n",
    "    with open(filename, \"w\", encoding=\"utf-8\") as f:\n",
    "        f.write(f\"# Personalized Newsletter for {user}\\n\\n\")\n",
    "        f.write(f\"### Interests: {', '.join(users[user]['interests'])}\\n\\n\")\n",
    "        f.write(f\"## Summary\\n\\n\")\n",
    "        f.write(f\"{top_summary}\\n\\n\")\n",
    "        f.write(f\"---\\n\\n\")\n",
    "\n",
    "        f.write(f\"## News by Category\\n\\n\")\n",
    "\n",
    "        for category, articles in categorized_articles.items():\n",
    "            f.write(f\"### {category.capitalize()}\\n\\n\")\n",
    "            for article in articles:\n",
    "                summary = summarize_article(article[\"link\"])\n",
    "                f.write(f\"**{article['title']}**\\n\\n\")\n",
    "                f.write(f\"{summary}\\n\\n\")\n",
    "                f.write(f\"[Read full article]({article['link']})\\n\\n\")\n",
    "            f.write(\"---\\n\\n\")\n",
    "\n",
    "    print(f\"Newsletter for {user} saved as {filename}\")"
   ]
  },
  {
   "cell_type": "code",
   "execution_count": 7,
   "id": "34e3aa42-96fa-48e8-b644-e84ed4078a67",
   "metadata": {},
   "outputs": [
    {
     "name": "stdout",
     "output_type": "stream",
     "text": [
      "Generating newsletter for Alex Parker...\n",
      "Newsletter for Alex Parker saved as alex_parker_newsletter.md\n",
      "Generating newsletter for Priya Sharma...\n",
      "Newsletter for Priya Sharma saved as priya_sharma_newsletter.md\n",
      "Generating newsletter for Marco Rossi...\n",
      "Newsletter for Marco Rossi saved as marco_rossi_newsletter.md\n",
      "Generating newsletter for Lisa Thompson...\n",
      "Newsletter for Lisa Thompson saved as lisa_thompson_newsletter.md\n",
      "Generating newsletter for David Martinez...\n",
      "Newsletter for David Martinez saved as david_martinez_newsletter.md\n"
     ]
    }
   ],
   "source": [
    "for user, data in users.items():\n",
    "    print(f\"Generating newsletter for {user}...\")\n",
    "    user_articles = fetch_articles(data[\"sources\"] + data.get(\"country_sources\", []))  \n",
    "    generate_newsletter(user, user_articles)"
   ]
  },
  {
   "cell_type": "code",
   "execution_count": null,
   "id": "3a723240-f4a1-4a8e-a1f2-925bc21abba6",
   "metadata": {},
   "outputs": [],
   "source": []
  }
 ],
 "metadata": {
  "kernelspec": {
   "display_name": "Python 3 (ipykernel)",
   "language": "python",
   "name": "python3"
  },
  "language_info": {
   "codemirror_mode": {
    "name": "ipython",
    "version": 3
   },
   "file_extension": ".py",
   "mimetype": "text/x-python",
   "name": "python",
   "nbconvert_exporter": "python",
   "pygments_lexer": "ipython3",
   "version": "3.11.2"
  }
 },
 "nbformat": 4,
 "nbformat_minor": 5
}
